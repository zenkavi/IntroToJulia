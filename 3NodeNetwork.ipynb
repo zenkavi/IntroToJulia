{
 "cells": [
  {
   "cell_type": "markdown",
   "metadata": {},
   "source": [
    "# Setup"
   ]
  },
  {
   "cell_type": "code",
   "execution_count": null,
   "metadata": {},
   "outputs": [],
   "source": [
    "using DifferentialEquations, DiffEqBayes, Plots, Stan"
   ]
  },
  {
   "cell_type": "markdown",
   "metadata": {},
   "source": [
    "# Three node network\n",
    "\n",
    "Based on lorenz example. Writing out the system of equations individually instead of looping through each node."
   ]
  },
  {
   "cell_type": "code",
   "execution_count": null,
   "metadata": {},
   "outputs": [],
   "source": [
    "function manual_network(du,u,p,t)\n",
    "  x,y,z = u\n",
    "  s,g,b = p\n",
    "  du[1] = dx = σ*(y-x)\n",
    "  du[2] = dy = x*(ρ-z) - y\n",
    "  du[3] = dz = x*y - β*z\n",
    "end\n",
    "u0 = [o.0,0.0,0.0]\n",
    "tspan = (0.0,1.0)\n",
    "p = [10.0,28.0,8/3]\n",
    "prob = ODEProblem(parameterized_lorenz,u0,tspan,p)"
   ]
  }
 ],
 "metadata": {
  "kernelspec": {
   "display_name": "Julia 1.5.3",
   "language": "julia",
   "name": "julia-1.5"
  },
  "language_info": {
   "file_extension": ".jl",
   "mimetype": "application/julia",
   "name": "julia",
   "version": "1.5.3"
  }
 },
 "nbformat": 4,
 "nbformat_minor": 4
}
