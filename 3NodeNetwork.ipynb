{
 "cells": [
  {
   "cell_type": "markdown",
   "metadata": {},
   "source": [
    "# Setup"
   ]
  },
  {
   "cell_type": "code",
   "execution_count": 1,
   "metadata": {},
   "outputs": [],
   "source": [
    "using DifferentialEquations, DiffEqBayes, Plots, Turing"
   ]
  },
  {
   "cell_type": "markdown",
   "metadata": {},
   "source": [
    "# Three node network\n",
    "\n",
    "Based on lorenz example. Writing out the system of equations individually instead of looping through each node."
   ]
  },
  {
   "cell_type": "code",
   "execution_count": 2,
   "metadata": {},
   "outputs": [
    {
     "data": {
      "text/plain": [
       "phi (generic function with 1 method)"
      ]
     },
     "execution_count": 2,
     "metadata": {},
     "output_type": "execute_result"
    }
   ],
   "source": [
    "phi(a::Number) = (exp(2*a)-1)/(exp(2*a)+1)"
   ]
  },
  {
   "cell_type": "code",
   "execution_count": null,
   "metadata": {},
   "outputs": [],
   "source": [
    "function manual_network(du,u,p,t)\n",
    "  x,y,z = u\n",
    "  s,g,b = p\n",
    "  du[1] = dx = -x + s*phi(x) + g*() + b*I\n",
    "  du[2] = dy = -x + s*phi(x) + g*() + b*I\n",
    "  du[3] = dz = -x + s*phi(x) + g*() + b*I\n",
    "end\n",
    "\n",
    "u0 = [0.0,0.0,0.0]\n",
    "\n",
    "tspan = (0.0,100.0)\n",
    "dt = 0.5\n",
    "\n",
    "p = [0.3, 0.7, 0.5]\n",
    "\n"
   ]
  }
 ],
 "metadata": {
  "kernelspec": {
   "display_name": "Julia 1.5.3",
   "language": "julia",
   "name": "julia-1.5"
  },
  "language_info": {
   "file_extension": ".jl",
   "mimetype": "application/julia",
   "name": "julia",
   "version": "1.5.3"
  }
 },
 "nbformat": 4,
 "nbformat_minor": 4
}
