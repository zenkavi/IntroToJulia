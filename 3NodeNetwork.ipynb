{
 "cells": [
  {
   "cell_type": "markdown",
   "metadata": {},
   "source": [
    "# Setup"
   ]
  },
  {
   "cell_type": "code",
   "execution_count": 1,
   "metadata": {},
   "outputs": [],
   "source": [
    "using Pkg"
   ]
  },
  {
   "cell_type": "code",
   "execution_count": 2,
   "metadata": {},
   "outputs": [
    {
     "name": "stdout",
     "output_type": "stream",
     "text": [
      "\u001b[32m\u001b[1mStatus\u001b[22m\u001b[39m `~/.julia/environments/v1.5/Project.toml`\n",
      " \u001b[90m [0c46a032] \u001b[39m\u001b[37mDifferentialEquations v6.16.0\u001b[39m\n",
      " \u001b[90m [31c24e10] \u001b[39m\u001b[37mDistributions v0.24.12\u001b[39m\n",
      " \u001b[90m [38e38edf] \u001b[39m\u001b[37mGLM v1.3.11\u001b[39m\n",
      " \u001b[90m [7073ff75] \u001b[39m\u001b[37mIJulia v1.23.1\u001b[39m\n",
      " \u001b[90m [a98d9a8b] \u001b[39m\u001b[37mInterpolations v0.13.1\u001b[39m\n",
      " \u001b[90m [c7f686f2] \u001b[39m\u001b[37mMCMCChains v4.6.0\u001b[39m\n",
      " \u001b[90m [6f286f6a] \u001b[39m\u001b[37mMultivariateStats v0.7.0\u001b[39m\n",
      " \u001b[90m [65888b18] \u001b[39m\u001b[37mParameterizedFunctions v5.9.0\u001b[39m\n",
      " \u001b[90m [91a5bcdd] \u001b[39m\u001b[37mPlots v1.10.2\u001b[39m\n",
      " \u001b[90m [f3b207a7] \u001b[39m\u001b[37mStatsPlots v0.14.17\u001b[39m\n",
      " \u001b[90m [9f7883ad] \u001b[39m\u001b[37mTracker v0.2.15\u001b[39m\n",
      " \u001b[90m [fce5fe82] \u001b[39m\u001b[37mTuring v0.15.8\u001b[39m\n"
     ]
    }
   ],
   "source": [
    "Pkg.status()"
   ]
  },
  {
   "cell_type": "code",
   "execution_count": 3,
   "metadata": {},
   "outputs": [
    {
     "name": "stdout",
     "output_type": "stream",
     "text": [
      "\u001b[32m\u001b[1mNo Matches\u001b[22m\u001b[39m in `~/.julia/environments/v1.5/Project.toml`\n"
     ]
    }
   ],
   "source": [
    "Pkg.status(\"DiffEqBase\")"
   ]
  },
  {
   "cell_type": "code",
   "execution_count": 4,
   "metadata": {},
   "outputs": [
    {
     "name": "stderr",
     "output_type": "stream",
     "text": [
      "\u001b[32m\u001b[1m   Updating\u001b[22m\u001b[39m registry at `~/.julia/registries/General`\n",
      "tar: Failed to set default locale\n",
      "tar: Failed to set default locale\n",
      "######################################################################### 100.0%\n",
      "tar: Failed to set default locale\n",
      "\u001b[32m\u001b[1m  Resolving\u001b[22m\u001b[39m package versions...\n",
      "tar: Failed to set default locale\n",
      "\u001b[32m\u001b[1m  Installed\u001b[22m\u001b[39m DiffEqBase ─ v6.57.1\n",
      "\u001b[32m\u001b[1mUpdating\u001b[22m\u001b[39m `~/.julia/environments/v1.5/Project.toml`\n",
      " \u001b[90m [2b5f629d] \u001b[39m\u001b[92m+ DiffEqBase v6.57.1\u001b[39m\n",
      "\u001b[32m\u001b[1mUpdating\u001b[22m\u001b[39m `~/.julia/environments/v1.5/Manifest.toml`\n",
      " \u001b[90m [2b5f629d] \u001b[39m\u001b[93m↑ DiffEqBase v6.53.6 ⇒ v6.57.1\u001b[39m\n"
     ]
    }
   ],
   "source": [
    "Pkg.add(Pkg.PackageSpec(;name=\"DiffEqBase\", version=\"6.57.1\"))"
   ]
  },
  {
   "cell_type": "code",
   "execution_count": 5,
   "metadata": {},
   "outputs": [
    {
     "name": "stderr",
     "output_type": "stream",
     "text": [
      "┌ Info: Precompiling DifferentialEquations [0c46a032-eb83-5123-abaf-570d42b7fbaa]\n",
      "└ @ Base loading.jl:1278\n"
     ]
    }
   ],
   "source": [
    "using DifferentialEquations, Plots, Turing, Interpolations, StatsPlots"
   ]
  },
  {
   "cell_type": "markdown",
   "metadata": {},
   "source": [
    "# Three node network"
   ]
  },
  {
   "cell_type": "code",
   "execution_count": 6,
   "metadata": {},
   "outputs": [
    {
     "data": {
      "text/plain": [
       "phi (generic function with 1 method)"
      ]
     },
     "execution_count": 6,
     "metadata": {},
     "output_type": "execute_result"
    }
   ],
   "source": [
    "phi(a::Number) = (exp(2*a)-1)/(exp(2*a)+1)"
   ]
  },
  {
   "cell_type": "code",
   "execution_count": null,
   "metadata": {},
   "outputs": [],
   "source": [
    "function additive_noise!(du,u,p,t)\n",
    "#     s,g,W,I,ϕ = p\n",
    "    s,g,W,ϕ = p\n",
    "    for i = 1:length(u)\n",
    "        du[i] = ϕ #This value multiplies a random number drawn from N(0, dt) i.e. noise then scales with sampling rate and effective sd of noise will be e.g. 0.1*dt\n",
    "    end\n",
    "end\n",
    "\n",
    "function network_model!(du,u,p,t)\n",
    "#     s,g,W,I,ϕ = p\n",
    "    s,g,W,ϕ = p\n",
    "    for i=1:length(u)\n",
    "#         du[i] = -u[i] + s*phi(u[i]) + g*(sum(W[i,:].*u)) + I(t)\n",
    "        du[i] = -u[i] + s*phi(u[i]) + g*(sum(W[i,:].*u))\n",
    "    end\n",
    "end"
   ]
  },
  {
   "cell_type": "code",
   "execution_count": null,
   "metadata": {},
   "outputs": [],
   "source": [
    "num_nodes = 3\n",
    "u0 = repeat([0.0], num_nodes)\n",
    "Tmax = 100.0\n",
    "tspan = (0,Tmax)\n",
    "\n",
    "# s = 0.3\n",
    "# g = 0.7\n",
    "# W = [0.0 0.2 0.0; 0.4 0.0 0.0; 0.0 0.3 0.0]\n",
    "\n",
    "ts = 1:1:Tmax\n",
    "task = repeat([0.0], 100)\n",
    "# task[4] = 1 #without impulse it'd be \"resting state\"\n",
    "# I = LinearInterpolation(ts, task, extrapolation_bc = 0)\n",
    "dt = 0.5\n",
    "# ϕ = 0.1\n",
    "\n",
    "# p = [s,g,W,I,ϕ]\n",
    "# p = [0.3, 0.7, [0.0 0.2 0.0; 0.4 0.0 0.0; 0.0 0.3 0.0], LinearInterpolation(ts, task, extrapolation_bc = 0), 0.1]\n",
    "p = [0.3, 0.7, [0.0 0.2 0.0; 0.4 0.0 0.0; 0.0 0.3 0.0], 0.1]\n",
    "\n",
    "prob_sde = SDEProblem(network_model!,additive_noise!,u0,tspan,p)\n"
   ]
  },
  {
   "cell_type": "markdown",
   "metadata": {},
   "source": [
    "Note: If you don't turn off adaptive step size then the number of solved points will not be Tmax/dt. It will be determined as detailed [here](https://diffeq.sciml.ai/stable/basics/common_solver_opts/#Basic-Stepsize-Control)"
   ]
  },
  {
   "cell_type": "code",
   "execution_count": null,
   "metadata": {},
   "outputs": [],
   "source": [
    "# sol = solve(prob_sde, dt=dt, adaptive=false)"
   ]
  },
  {
   "cell_type": "code",
   "execution_count": null,
   "metadata": {},
   "outputs": [],
   "source": [
    "# plot(sol)"
   ]
  },
  {
   "cell_type": "code",
   "execution_count": null,
   "metadata": {},
   "outputs": [],
   "source": [
    "ensembleprob = EnsembleProblem(prob_sde)\n",
    "# data = solve(ensembleprob, SOSRI(), trajectories=100, dt=dt, adaptive=false, saveat=dt)\n",
    "data = solve(ensembleprob, SOSRI(), trajectories=100)\n",
    "plot(EnsembleSummary(data))"
   ]
  },
  {
   "cell_type": "code",
   "execution_count": null,
   "metadata": {},
   "outputs": [],
   "source": [
    "Turing.setadbackend(:forwarddiff)\n",
    "@model function fit_nmm(data, prob, ::Type{T} = Float64) where {T}\n",
    "    σ ~ InverseGamma(2,3)\n",
    "    ϕ ~ truncated(Normal(0.0,1.1),-3.0,3.0)\n",
    "#     ϕ = 0.1\n",
    "    s = 0.3\n",
    "    g = 0.7\n",
    "    W = [0.0 0.2 0.0; 0.4 0.0 0.0; 0.0 0.3 0.0]\n",
    "#     ts = 1:1:Tmax\n",
    "#     task = repeat([0.0], 100)\n",
    "#     I = LinearInterpolation(ts, task, extrapolation_bc = 0)\n",
    "#     p = [s,g,W,I,ϕ]\n",
    "    p = [s,g,W,ϕ]\n",
    "    prob = remake(prob, p=p, saveat=dt)\n",
    "    predicted = solve(prob, SOSRI(), dt=dt, adaptive=false)\n",
    "\n",
    "#     if predicted.retcode != :Success\n",
    "#         Turing.acclogp!(_varinfo, -Inf)\n",
    "#     end\n",
    "    for j in 1:length(data) #number of ensemble iterations\n",
    "        for i = 1:length(predicted) #number of time points\n",
    "            data[j][i] ~ MvNormal(predicted[i],σ) #generate 3 points at a time for each node\n",
    "        end\n",
    "    end\n",
    "end;"
   ]
  },
  {
   "cell_type": "code",
   "execution_count": null,
   "metadata": {},
   "outputs": [],
   "source": [
    "model = fit_nmm(data, prob_sde)"
   ]
  },
  {
   "cell_type": "code",
   "execution_count": null,
   "metadata": {},
   "outputs": [],
   "source": [
    "@code_warntype model.f(\n",
    "    Random.GLOBAL_RNG,\n",
    "    model,\n",
    "    Turing.VarInfo(model),\n",
    "    Turing.SampleFromPrior(),\n",
    "    Turing.DefaultContext(),\n",
    "    model.args...,\n",
    ")"
   ]
  },
  {
   "cell_type": "code",
   "execution_count": null,
   "metadata": {},
   "outputs": [],
   "source": [
    "chain = sample(model, NUTS(0.25), 100)"
   ]
  },
  {
   "cell_type": "code",
   "execution_count": null,
   "metadata": {},
   "outputs": [],
   "source": [
    "plot(chain)"
   ]
  },
  {
   "cell_type": "code",
   "execution_count": null,
   "metadata": {},
   "outputs": [],
   "source": [
    "typeof(u0)"
   ]
  },
  {
   "cell_type": "code",
   "execution_count": null,
   "metadata": {},
   "outputs": [],
   "source": []
  }
 ],
 "metadata": {
  "kernelspec": {
   "display_name": "Julia 1.5.3",
   "language": "julia",
   "name": "julia-1.5"
  },
  "language_info": {
   "file_extension": ".jl",
   "mimetype": "application/julia",
   "name": "julia",
   "version": "1.5.3"
  }
 },
 "nbformat": 4,
 "nbformat_minor": 4
}
