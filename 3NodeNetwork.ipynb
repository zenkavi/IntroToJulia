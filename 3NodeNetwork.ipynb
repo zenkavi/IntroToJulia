{
 "cells": [
  {
   "cell_type": "markdown",
   "metadata": {},
   "source": [
    "# Setup"
   ]
  },
  {
   "cell_type": "code",
   "execution_count": null,
   "metadata": {},
   "outputs": [],
   "source": [
    "using DifferentialEquations, Plots, Turing, Interpolations"
   ]
  },
  {
   "cell_type": "markdown",
   "metadata": {},
   "source": [
    "# Three node network\n",
    "\n",
    "Based on lorenz example. Writing out the system of equations individually instead of looping through each node."
   ]
  },
  {
   "cell_type": "code",
   "execution_count": null,
   "metadata": {},
   "outputs": [],
   "source": [
    "phi(a::Number) = (exp(2*a)-1)/(exp(2*a)+1)"
   ]
  },
  {
   "cell_type": "code",
   "execution_count": null,
   "metadata": {},
   "outputs": [],
   "source": [
    "function additive_noise!(du,u,p,t)\n",
    "    s,g,W,I,σ = p\n",
    "    for i = 1:length(u)\n",
    "#         du[i] = 0 #no noise\n",
    "        du[i] = σ #This value multiplies a random number drawn from N(0, dt)\n",
    "        #i.e. noise then scales with sampling rate and effective sd of noise will be e.g. 0.1*dt\n",
    "    end\n",
    "end\n",
    "\n",
    "function network_model!(du,u,p,t)\n",
    "    s,g,W,I,σ = p\n",
    "    for i=1:length(u)\n",
    "        du[i] = -u[i] + s*phi(u[i]) + g*(sum(W[i,:].*u)) + I(t)\n",
    "    end\n",
    "end"
   ]
  },
  {
   "cell_type": "code",
   "execution_count": null,
   "metadata": {},
   "outputs": [],
   "source": [
    "num_nodes = 3\n",
    "u0 = repeat([0.0], num_nodes)\n",
    "Tmax = 100.0\n",
    "tspan = (0,Tmax)\n",
    "\n",
    "s = 0.3\n",
    "g = 0.7\n",
    "W = [0.0 0.2 0.0; 0.4 0.0 0.0; 0.0 0.3 0.0]\n",
    "\n",
    "ts = 1:1:Tmax\n",
    "task = repeat([0.0], 100)\n",
    "# task[4] = 1 #without impulse it'd be \"resting state\"\n",
    "I = LinearInterpolation(ts, task, extrapolation_bc = 0)\n",
    "dt = 0.5\n",
    "σ = 0.1\n",
    "\n",
    "p = [s,g,W,I,σ]\n",
    "\n",
    "prob_sde = SDEProblem(network_model,additive_noise,u0,tspan,p)\n"
   ]
  },
  {
   "cell_type": "markdown",
   "metadata": {},
   "source": [
    "Note: If you don't turn off adaptive step size then the number of solved points will not be Tmax/dt. It will be determined as detailed [here](https://diffeq.sciml.ai/stable/basics/common_solver_opts/#Basic-Stepsize-Control)"
   ]
  },
  {
   "cell_type": "code",
   "execution_count": null,
   "metadata": {},
   "outputs": [],
   "source": [
    "sol = solve(prob_sde, dt=dt, adaptive=false)"
   ]
  },
  {
   "cell_type": "code",
   "execution_count": null,
   "metadata": {},
   "outputs": [],
   "source": [
    "plot(sol)"
   ]
  },
  {
   "cell_type": "code",
   "execution_count": null,
   "metadata": {},
   "outputs": [],
   "source": [
    "ensembleprob = EnsembleProblem(prob_sde)\n",
    "data = solve(ensembleprob, SOSRI(), trajectories=100, dt=dt, adaptive=false)\n",
    "plot(EnsembleSummary(data))"
   ]
  },
  {
   "cell_type": "code",
   "execution_count": null,
   "metadata": {},
   "outputs": [],
   "source": [
    "Turing.setadbackend(:forwarddiff)\n",
    "@model function fit_nmm(data, prob)\n",
    "    σ ~ LogNormal(-1,1)\n",
    "    \n",
    "    s = 0.3\n",
    "    g = 0.7\n",
    "    W = [0.0 0.2 0.0; 0.4 0.0 0.0; 0.0 0.3 0.0]\n",
    "    ts = 1:1:Tmax\n",
    "    task = repeat([0.0], 100)\n",
    "    I = LinearInterpolation(ts, task, extrapolation_bc = 0)\n",
    "    p = [s,g,W,I,σ]\n",
    "    prob = remake(prob, p=p)\n",
    "    predicted = solve(prob,SOSRI(),dt=dt, adaptive=false)\n",
    "\n",
    "    if predicted.retcode != :Success\n",
    "        Turing.acclogp!(_varinfo, -Inf)\n",
    "    end\n",
    "    for j in 1:length(data) #number of nodes\n",
    "        for i = 1:length(predicted) #number of time points\n",
    "            data[j][i] ~ MvNormal(predicted[i],σ)\n",
    "        end\n",
    "    end\n",
    "end;"
   ]
  },
  {
   "cell_type": "code",
   "execution_count": null,
   "metadata": {},
   "outputs": [],
   "source": [
    "model = fit_nmm(data, prob_sde)\n",
    "chain = sample(model, NUTS(0.25), 5000)"
   ]
  },
  {
   "cell_type": "code",
   "execution_count": null,
   "metadata": {},
   "outputs": [],
   "source": [
    "plot(chain)"
   ]
  },
  {
   "cell_type": "code",
   "execution_count": null,
   "metadata": {},
   "outputs": [],
   "source": [
    "names(Main, imported=true)"
   ]
  },
  {
   "cell_type": "code",
   "execution_count": null,
   "metadata": {},
   "outputs": [],
   "source": []
  }
 ],
 "metadata": {
  "kernelspec": {
   "display_name": "Julia 1.5.3",
   "language": "julia",
   "name": "julia-1.5"
  },
  "language_info": {
   "file_extension": ".jl",
   "mimetype": "application/julia",
   "name": "julia",
   "version": "1.5.3"
  }
 },
 "nbformat": 4,
 "nbformat_minor": 4
}
