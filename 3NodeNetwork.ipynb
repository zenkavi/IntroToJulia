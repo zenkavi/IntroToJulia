{
 "cells": [
  {
   "cell_type": "markdown",
   "metadata": {},
   "source": [
    "# Setup"
   ]
  },
  {
   "cell_type": "code",
   "execution_count": 1,
   "metadata": {},
   "outputs": [],
   "source": [
    "using DifferentialEquations, DiffEqBayes, Plots, Turing"
   ]
  },
  {
   "cell_type": "markdown",
   "metadata": {},
   "source": [
    "# Three node network\n",
    "\n",
    "Based on lorenz example. Writing out the system of equations individually instead of looping through each node."
   ]
  },
  {
   "cell_type": "code",
   "execution_count": 2,
   "metadata": {},
   "outputs": [
    {
     "data": {
      "text/plain": [
       "phi (generic function with 1 method)"
      ]
     },
     "execution_count": 2,
     "metadata": {},
     "output_type": "execute_result"
    }
   ],
   "source": [
    "phi(a::Number) = (exp(2*a)-1)/(exp(2*a)+1)"
   ]
  },
  {
   "cell_type": "code",
   "execution_count": null,
   "metadata": {},
   "outputs": [],
   "source": [
    "function additive_noise!(du,u,p,t)\n",
    "    s,g,W,I,σ = p\n",
    "    for i = 1:length(u)\n",
    "        du[i] = du[i]+randn(1)*σ\n",
    "    end\n",
    "end\n",
    "\n",
    "function network_model!(du,u,p,t)\n",
    "    s,g,W,I,σ = p\n",
    "    for i=1:length(u)\n",
    "        du[i] = -u[i] + s*phi(u[i]) + g*(W*u) + I(t)\n",
    "    end\n",
    "end"
   ]
  },
  {
   "cell_type": "code",
   "execution_count": null,
   "metadata": {},
   "outputs": [],
   "source": [
    "num_nodes = 3\n",
    "u0 = repeat([0.0], num_nodes)\n",
    "Tmax = 100.0\n",
    "tspan = (0.0,Tmax)\n",
    "dt = 0.5\n",
    "s = 0.3\n",
    "g = 0.7\n",
    "W = [0.0 0.2 0.0; 0.4 0.0 0.0; 0.0 0.3 0.0]\n",
    "I\n",
    "σ = 0.01\n",
    "\n",
    "#Task input has to be a continuous function for I(t) to work as a parameter in the DEP definition\n",
    "#So you'll prob have to use interpolation \n",
    "\n",
    "p = [s,g,W,I,σ]\n",
    "\n",
    "prob_sde = SDEProblem(network_model!,additive_noise!,u0,tspan,p)\n"
   ]
  },
  {
   "cell_type": "code",
   "execution_count": 14,
   "metadata": {},
   "outputs": [
    {
     "data": {
      "text/plain": [
       "3×3 Array{Float64,2}:\n",
       " 0.0  0.2  0.0\n",
       " 0.4  0.0  0.0\n",
       " 0.0  0.3  0.0"
      ]
     },
     "execution_count": 14,
     "metadata": {},
     "output_type": "execute_result"
    }
   ],
   "source": []
  },
  {
   "cell_type": "code",
   "execution_count": null,
   "metadata": {},
   "outputs": [],
   "source": []
  }
 ],
 "metadata": {
  "kernelspec": {
   "display_name": "Julia 1.5.3",
   "language": "julia",
   "name": "julia-1.5"
  },
  "language_info": {
   "file_extension": ".jl",
   "mimetype": "application/julia",
   "name": "julia",
   "version": "1.5.3"
  }
 },
 "nbformat": 4,
 "nbformat_minor": 4
}
