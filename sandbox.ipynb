{
 "cells": [
  {
   "cell_type": "code",
   "execution_count": null,
   "metadata": {},
   "outputs": [],
   "source": [
    "using Pkg"
   ]
  },
  {
   "cell_type": "code",
   "execution_count": null,
   "metadata": {},
   "outputs": [],
   "source": [
    "Pkg.status()"
   ]
  },
  {
   "cell_type": "code",
   "execution_count": null,
   "metadata": {},
   "outputs": [],
   "source": [
    "# Pkg.add(Pkg.PackageSpec(;name=\"DifferentialEquations\", version=\"6.16.0\"))"
   ]
  },
  {
   "cell_type": "code",
   "execution_count": null,
   "metadata": {},
   "outputs": [],
   "source": [
    "Pkg.status()"
   ]
  },
  {
   "cell_type": "code",
   "execution_count": 1,
   "metadata": {},
   "outputs": [
    {
     "name": "stderr",
     "output_type": "stream",
     "text": [
      "┌ Info: Precompiling Turing [fce5fe82-541a-59a6-adf8-730c64b5f9a0]\n",
      "└ @ Base loading.jl:1278\n"
     ]
    }
   ],
   "source": [
    "using Turing"
   ]
  },
  {
   "cell_type": "code",
   "execution_count": 2,
   "metadata": {},
   "outputs": [
    {
     "name": "stderr",
     "output_type": "stream",
     "text": [
      "┌ Info: Precompiling DifferentialEquations [0c46a032-eb83-5123-abaf-570d42b7fbaa]\n",
      "└ @ Base loading.jl:1278\n"
     ]
    }
   ],
   "source": [
    "using DifferentialEquations "
   ]
  },
  {
   "cell_type": "code",
   "execution_count": 3,
   "metadata": {},
   "outputs": [],
   "source": [
    "using Plots"
   ]
  },
  {
   "cell_type": "code",
   "execution_count": 4,
   "metadata": {},
   "outputs": [
    {
     "name": "stderr",
     "output_type": "stream",
     "text": [
      "┌ Warning: you are using the internal variable `_varinfo`\n",
      "└ @ DynamicPPL /Users/zeynepenkavi/.julia/packages/DynamicPPL/wf0dU/src/compiler.jl:171\n"
     ]
    }
   ],
   "source": [
    "u0 = [1.0,1.0]\n",
    "tspan = (0.0,10.0)\n",
    "function multiplicative_noise!(du,u,p,t)\n",
    "  x,y = u\n",
    "  du[1] = p[5]*x\n",
    "  du[2] = p[6]*y\n",
    "end\n",
    "p = [1.5,1.0,3.0,1.0,0.1,0.1]\n",
    "\n",
    "function lotka_volterra!(du,u,p,t)\n",
    "  x,y = u\n",
    "  α,β,γ,δ = p\n",
    "  du[1] = dx = α*x - β*x*y\n",
    "  du[2] = dy = δ*x*y - γ*y\n",
    "end\n",
    "\n",
    "\n",
    "prob_sde = SDEProblem(lotka_volterra!,multiplicative_noise!,u0,tspan,p)\n",
    "\n",
    "ensembleprob = EnsembleProblem(prob_sde)\n",
    "data = solve(ensembleprob,SOSRI(),saveat=0.1,trajectories=1000)\n",
    "\n",
    "Turing.setadbackend(:forwarddiff)\n",
    "@model function fitlv(data, prob)\n",
    "    σ ~ InverseGamma(2,3)\n",
    "    α ~ truncated(Normal(1.3,0.5),0.5,2.5)\n",
    "    β ~ truncated(Normal(1.2,0.25),0.5,2)\n",
    "    γ ~ truncated(Normal(3.2,0.25),2.2,4.0)\n",
    "    δ ~ truncated(Normal(1.2,0.25),0.5,2.0)\n",
    "    ϕ1 ~ truncated(Normal(0.12,0.3),0.05,0.25)\n",
    "    ϕ2 ~ truncated(Normal(0.12,0.3),0.05,0.25)\n",
    "    p = [α,β,γ,δ,ϕ1,ϕ2]\n",
    "    prob = remake(prob, p=p)\n",
    "    predicted = solve(prob,SOSRI(),saveat=0.1)\n",
    "\n",
    "    if predicted.retcode != :Success\n",
    "        Turing.acclogp!(_varinfo, -Inf)\n",
    "    end\n",
    "    for j in 1:length(data)\n",
    "        for i = 1:length(predicted)\n",
    "            data[j][i] ~ MvNormal(predicted[i],σ)\n",
    "        end\n",
    "    end\n",
    "end;"
   ]
  },
  {
   "cell_type": "code",
   "execution_count": 5,
   "metadata": {},
   "outputs": [
    {
     "data": {
      "text/plain": [
       "EnsembleSolution Solution of length 101 with uType:\n",
       "Float64"
      ]
     },
     "execution_count": 5,
     "metadata": {},
     "output_type": "execute_result"
    }
   ],
   "source": [
    "EnsembleSummary(data)"
   ]
  },
  {
   "cell_type": "code",
   "execution_count": null,
   "metadata": {},
   "outputs": [],
   "source": [
    "model = fitlv(data, prob_sde)\n",
    "# chain = sample(model, NUTS(0.25), 200, init_theta = [1.5,1.3,1.2,2.7,1.2,0.12,0.12])\n",
    "chain = sample(model, NUTS(0.25), 100)\n",
    "# plot(chain)"
   ]
  },
  {
   "cell_type": "code",
   "execution_count": null,
   "metadata": {},
   "outputs": [],
   "source": [
    "@code_warntype model.f(\n",
    "    Random.GLOBAL_RNG,\n",
    "    model,\n",
    "    Turing.VarInfo(model),\n",
    "    Turing.SampleFromPrior(),\n",
    "    Turing.DefaultContext(),\n",
    "    model.args...,\n",
    ")"
   ]
  },
  {
   "cell_type": "code",
   "execution_count": null,
   "metadata": {},
   "outputs": [],
   "source": [
    "function lotka_volterra(du,u,p,t)\n",
    "  x, y = u\n",
    "  α, β, γ, δ  = p\n",
    "  du[1] = (α - β*y)x \n",
    "  du[2] = (δ*x - γ)y \n",
    "end\n",
    "p = [1.5, 1.0, 3.0, 1.0]\n",
    "u0 = [1.0,1.0]\n",
    "prob1 = ODEProblem(lotka_volterra,u0,(0.0,10.0),p)\n",
    "sol = solve(prob1,Tsit5())\n",
    "\n",
    "\n",
    "\n",
    "\n",
    "sol1 = solve(prob1,Tsit5(),saveat=0.1)\n",
    "odedata = Array(sol1) + 0.8 * randn(size(Array(sol1)))\n",
    "plot(sol1, alpha = 0.3, legend = false); scatter!(sol1.t, odedata')\n",
    "\n",
    "# set AD backend\n",
    "Turing.setadbackend(:forwarddiff)\n",
    "\n",
    "# set priors\n",
    "priors = [truncated(Normal(1.5,0.5),0.5,2.5), truncated(Normal(1.2,0.5),0,2), truncated(Normal(3.0,0.5),1,4),truncated(Normal(1.0,0.5),0,2)]\n",
    "\n",
    "# type stable model\n",
    "\n",
    "@model function fitlv2(data, prob1, priors, ::Type{T} = Float64) where {T} # data should be a Vector\n",
    "    σ ~ InverseGamma(2, 3)\n",
    "\n",
    "    p ~ arraydist(priors) \n",
    "\n",
    "    predicted::Vector{Vector{T}} = solve(prob1, Tsit5(); p=p, saveat=0.1).u\n",
    "\n",
    "    for i = 1:length(predicted)\n",
    "        data[:,i] ~ MvNormal(predicted[i], σ)\n",
    "    end\n",
    "end\n",
    "\n",
    "\n",
    "# instantiation\n",
    "model2= fitlv2(odedata, prob1, priors)"
   ]
  },
  {
   "cell_type": "code",
   "execution_count": null,
   "metadata": {},
   "outputs": [],
   "source": [
    "chain2 = sample(model2, NUTS(0.25), 100)"
   ]
  },
  {
   "cell_type": "code",
   "execution_count": null,
   "metadata": {},
   "outputs": [],
   "source": [
    "Pkg.add(Pkg.PackageSpec(;name=\"SciMLBase\", version=\"1.6.0\"))"
   ]
  },
  {
   "cell_type": "code",
   "execution_count": null,
   "metadata": {},
   "outputs": [],
   "source": [
    "using Pkg"
   ]
  },
  {
   "cell_type": "code",
   "execution_count": null,
   "metadata": {},
   "outputs": [],
   "source": [
    "using SciMLBase"
   ]
  },
  {
   "cell_type": "code",
   "execution_count": null,
   "metadata": {},
   "outputs": [],
   "source": []
  }
 ],
 "metadata": {
  "kernelspec": {
   "display_name": "Julia 1.5.3",
   "language": "julia",
   "name": "julia-1.5"
  },
  "language_info": {
   "file_extension": ".jl",
   "mimetype": "application/julia",
   "name": "julia",
   "version": "1.5.3"
  }
 },
 "nbformat": 4,
 "nbformat_minor": 4
}
