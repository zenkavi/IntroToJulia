{
 "cells": [
  {
   "cell_type": "markdown",
   "metadata": {},
   "source": [
    "# Installing and loading packages"
   ]
  },
  {
   "cell_type": "markdown",
   "metadata": {},
   "source": [
    "Beginner's guide: http://ucidatascienceinitiative.github.io/IntroToJulia/"
   ]
  },
  {
   "cell_type": "code",
   "execution_count": null,
   "metadata": {},
   "outputs": [],
   "source": [
    "using Pkg\n",
    "# Pkg.add(\"Plots\")\n",
    "# For a specific version of a package\n",
    "# Pkg.add(Pkg.PackageSpec(;name=\"DifferentialEquations\", version=\"6.16.0\"))"
   ]
  },
  {
   "cell_type": "code",
   "execution_count": null,
   "metadata": {},
   "outputs": [],
   "source": [
    "using DifferentialEquations, Plots, DiffEqBayes, Turing\n"
   ]
  },
  {
   "cell_type": "markdown",
   "metadata": {},
   "source": [
    "# Functions and multiple dispatch"
   ]
  },
  {
   "cell_type": "markdown",
   "metadata": {},
   "source": [
    "The function below has 5 methods. Its output depends on the type of the input (without any conditional statement). This is multiple dispatch and improves performance."
   ]
  },
  {
   "cell_type": "code",
   "execution_count": null,
   "metadata": {},
   "outputs": [],
   "source": [
    "f(x,y) = 2x+y # Create an inline function\n",
    "function f(x)\n",
    "  x+2  \n",
    "end # Long form definition\n",
    "f(x::Int,y::Int) = 3x+2y\n",
    "\n",
    "f(x::T,y::T) where {T<:Number}= 4x+10y\n",
    "f(x::T,y::T2,z::T2) where {T<:Number,T2} = 5x + 5y + 5z\n"
   ]
  },
  {
   "cell_type": "code",
   "execution_count": null,
   "metadata": {},
   "outputs": [],
   "source": [
    "f(2,3) # 3x+2y"
   ]
  },
  {
   "cell_type": "code",
   "execution_count": null,
   "metadata": {},
   "outputs": [],
   "source": [
    "f(2.0,3) # 2x+y since 2.0 is not an Int"
   ]
  },
  {
   "cell_type": "code",
   "execution_count": null,
   "metadata": {},
   "outputs": [],
   "source": [
    "f(2.0,3.0) # 4x+10y"
   ]
  },
  {
   "cell_type": "code",
   "execution_count": null,
   "metadata": {},
   "outputs": [],
   "source": [
    "f(2, 3.0, 4.0) #5x + 5y + 5z"
   ]
  },
  {
   "cell_type": "markdown",
   "metadata": {},
   "source": [
    "# Ordinary Differential Equations"
   ]
  },
  {
   "cell_type": "markdown",
   "metadata": {},
   "source": [
    "## Scalar equation"
   ]
  },
  {
   "cell_type": "markdown",
   "metadata": {},
   "source": [
    "Solving an ODE numerically\n",
    "\n",
    "Step 1: Defining the problem"
   ]
  },
  {
   "cell_type": "code",
   "execution_count": null,
   "metadata": {},
   "outputs": [],
   "source": [
    "f(u,p,t) = 1.01*u\n",
    "u0=1/2\n",
    "tspan = (0.0,1.0)\n",
    "prob = ODEProblem(f,u0,tspan)"
   ]
  },
  {
   "cell_type": "markdown",
   "metadata": {},
   "source": [
    "Step 2: Solve the problem"
   ]
  },
  {
   "cell_type": "code",
   "execution_count": null,
   "metadata": {},
   "outputs": [],
   "source": [
    "sol = solve(prob,Tsit5(),reltol=1e-8,abstol=1e-8)"
   ]
  },
  {
   "cell_type": "markdown",
   "metadata": {},
   "source": [
    "Step 3: Analyze the solution\n",
    "\n",
    "Accessing elements of the solution"
   ]
  },
  {
   "cell_type": "code",
   "execution_count": null,
   "metadata": {},
   "outputs": [],
   "source": [
    "sol[5] # The value at the fifth time step\n",
    "sol.t[8]\n",
    "[t+2u for (u,t) in zip(sol.u,sol.t)]\n",
    "sol(0.45) # The value of the solution at t=0.45"
   ]
  },
  {
   "cell_type": "code",
   "execution_count": null,
   "metadata": {},
   "outputs": [],
   "source": [
    "plot(sol,linewidth=5,title=\"Solution to the linear ODE\",\n",
    "     xaxis=\"Time (t)\",yaxis=\"u(t) (in μm)\",label=\"Numerical solution\")\n",
    "\n",
    "plot!(sol.t,t->0.5*exp(1.01t),lw=3,ls=:dash,label=\"Analytical solution\")"
   ]
  },
  {
   "cell_type": "markdown",
   "metadata": {},
   "source": [
    "## Sytems of equations"
   ]
  },
  {
   "cell_type": "markdown",
   "metadata": {},
   "source": [
    "Define the problem"
   ]
  },
  {
   "cell_type": "code",
   "execution_count": null,
   "metadata": {},
   "outputs": [],
   "source": [
    "function lorenz(du,u,p,t)\n",
    " du[1] = 10.0*(u[2]-u[1])\n",
    " du[2] = u[1]*(28.0-u[3]) - u[2]\n",
    " du[3] = u[1]*u[2] - (8/3)*u[3]\n",
    "end"
   ]
  },
  {
   "cell_type": "code",
   "execution_count": null,
   "metadata": {},
   "outputs": [],
   "source": [
    "u0 = [1.0;0.0;0.0]\n",
    "tspan = (0.0,100.0)\n",
    "prob = ODEProblem(lorenz,u0,tspan)\n",
    "sol = solve(prob)"
   ]
  },
  {
   "cell_type": "code",
   "execution_count": null,
   "metadata": {},
   "outputs": [],
   "source": [
    "# plot(sol)\n",
    "plot(sol,vars=(0,2)) #Here \"variable 0\" corresponds to the independent variable (\"time\")"
   ]
  },
  {
   "cell_type": "markdown",
   "metadata": {},
   "source": [
    "Phase space plot"
   ]
  },
  {
   "cell_type": "code",
   "execution_count": null,
   "metadata": {},
   "outputs": [],
   "source": [
    "plot(sol,vars=(1,2,3))"
   ]
  },
  {
   "cell_type": "markdown",
   "metadata": {},
   "source": [
    "## Non-homogenous system"
   ]
  },
  {
   "cell_type": "code",
   "execution_count": null,
   "metadata": {},
   "outputs": [],
   "source": [
    "l = 1.0                             # length [m]\n",
    "m = 1.0                             # mass[m]\n",
    "g = 9.81                            # gravitational acceleration [m/s²]\n",
    "\n",
    "function pendulum!(du,u,p,t)\n",
    "    du[1] = u[2]                    # θ'(t) = ω(t)\n",
    "    du[2] = -3g/(2l)*sin(u[1]) + 3/(m*l^2)*p(t) # ω'(t) = -3g/(2l) sin θ(t) + 3/(ml^2)M(t)\n",
    "end\n",
    "\n",
    "θ₀ = 0.01                           # initial angular deflection [rad]\n",
    "ω₀ = 0.0                            # initial angular velocity [rad/s]\n",
    "u₀ = [θ₀, ω₀]                       # initial state vector\n",
    "tspan = (0.0,10.0)                  # time interval\n",
    "\n",
    "M = t->0.1sin(t)                    # external torque [Nm]\n",
    "\n",
    "prob = ODEProblem(pendulum!,u₀,tspan,M)\n",
    "sol = solve(prob)"
   ]
  },
  {
   "cell_type": "code",
   "execution_count": null,
   "metadata": {},
   "outputs": [],
   "source": [
    "Plots.plot(sol,linewidth=2,xaxis=\"t\",label=[\"θ [rad]\" \"ω [rad/s]\"],layout=(2,1))"
   ]
  },
  {
   "cell_type": "code",
   "execution_count": null,
   "metadata": {},
   "outputs": [],
   "source": [
    "M"
   ]
  },
  {
   "cell_type": "markdown",
   "metadata": {},
   "source": [
    "## Parameterized systems\n",
    "\n",
    "TIP: \\alpha + tab results in Greek letters"
   ]
  },
  {
   "cell_type": "code",
   "execution_count": null,
   "metadata": {},
   "outputs": [],
   "source": [
    "function parameterized_lorenz(du,u,p,t)\n",
    "  x,y,z = u\n",
    "  σ,ρ,β = p\n",
    "  du[1] = dx = σ*(y-x)\n",
    "  du[2] = dy = x*(ρ-z) - y\n",
    "  du[3] = dz = x*y - β*z\n",
    "end\n",
    "u0 = [1.0,0.0,0.0]\n",
    "tspan = (0.0,1.0)\n",
    "p = [10.0,28.0,8/3]\n",
    "prob = ODEProblem(parameterized_lorenz,u0,tspan,p)"
   ]
  },
  {
   "cell_type": "code",
   "execution_count": null,
   "metadata": {},
   "outputs": [],
   "source": [
    "sol = solve(prob)"
   ]
  },
  {
   "cell_type": "markdown",
   "metadata": {},
   "source": [
    "## Pseudo-code definition"
   ]
  },
  {
   "cell_type": "code",
   "execution_count": null,
   "metadata": {},
   "outputs": [],
   "source": [
    "using ParameterizedFunctions\n",
    "g = @ode_def begin\n",
    "  dx = σ*(y-x)\n",
    "  dy = x*(ρ-z) - y\n",
    "  dz = x*y - β*z\n",
    "end σ ρ β\n",
    "u0 = [1.0;0.0;0.0]\n",
    "tspan = (0.0,1.0)\n",
    "p = [10.0,28.0,8/3]\n",
    "prob = ODEProblem(g,u0,tspan,p)"
   ]
  },
  {
   "cell_type": "markdown",
   "metadata": {},
   "source": [
    "# Stochastic Differential Equations"
   ]
  },
  {
   "cell_type": "markdown",
   "metadata": {},
   "source": [
    "Define the deterministic (f) and the stochastic (g) parts of the problem separately"
   ]
  },
  {
   "cell_type": "code",
   "execution_count": null,
   "metadata": {},
   "outputs": [],
   "source": [
    "function lorenz(du,u,p,t)\n",
    "  du[1] = 10.0(u[2]-u[1])\n",
    "  du[2] = u[1]*(28.0-u[3]) - u[2]\n",
    "  du[3] = u[1]*u[2] - (8/3)*u[3]\n",
    "end\n",
    "\n",
    "function σ_lorenz(du,u,p,t)\n",
    "  du[1] = 3.0\n",
    "  du[2] = 3.0\n",
    "  du[3] = 3.0\n",
    "end\n",
    "\n",
    "prob_sde_lorenz = SDEProblem(lorenz,σ_lorenz,[1.0,0.0,0.0],(0.0,10.0))\n",
    "sol = solve(prob_sde_lorenz)\n"
   ]
  },
  {
   "cell_type": "code",
   "execution_count": null,
   "metadata": {},
   "outputs": [],
   "source": [
    "Plots.plot(sol,vars=(1,2,3))"
   ]
  },
  {
   "cell_type": "markdown",
   "metadata": {},
   "source": [
    "Parameterized noise function"
   ]
  },
  {
   "cell_type": "code",
   "execution_count": null,
   "metadata": {},
   "outputs": [],
   "source": [
    "function σ_lorenz(du,u,p,t)\n",
    "  du[1] = sin(u[3])*3.0\n",
    "#   du[2] = u[2]*u[1]*3.0\n",
    "  du[2] =3.0\n",
    "  du[3] = 3.0\n",
    "end\n",
    "\n",
    "prob_sde_lorenz = SDEProblem(lorenz,σ_lorenz,[1.0,0.0,0.0],(0.0,10.0))\n",
    "sol = solve(prob_sde_lorenz)\n",
    "Plots.plot(sol,vars=(1,2,3))"
   ]
  },
  {
   "cell_type": "markdown",
   "metadata": {},
   "source": [
    "# Parameter Estimation\n",
    "\n",
    "Example from [here](https://turing.ml/stable/tutorials/10-bayesiandiffeq/#inference-of-a-stochastic-differential-equation)"
   ]
  },
  {
   "cell_type": "code",
   "execution_count": null,
   "metadata": {},
   "outputs": [],
   "source": [
    "u0 = [1.0,1.0]\n",
    "tspan = (0.0,10.0)\n",
    "function multiplicative_noise!(du,u,p,t)\n",
    "  x,y = u\n",
    "  du[1] = p[5]*x\n",
    "  du[2] = p[6]*y\n",
    "end\n",
    "p = [1.5,1.0,3.0,1.0,0.1,0.1]\n",
    "\n",
    "function lotka_volterra!(du,u,p,t)\n",
    "  x,y = u\n",
    "  α,β,γ,δ = p\n",
    "  du[1] = dx = α*x - β*x*y\n",
    "  du[2] = dy = δ*x*y - γ*y\n",
    "end\n",
    "\n",
    "\n",
    "prob_sde = SDEProblem(lotka_volterra!,multiplicative_noise!,u0,tspan,p)\n",
    "\n",
    "ensembleprob = EnsembleProblem(prob_sde)\n",
    "@time data = solve(ensembleprob,SOSRI(),saveat=0.1,trajectories=1000)\n",
    "Plots.plot(EnsembleSummary(data))"
   ]
  },
  {
   "cell_type": "code",
   "execution_count": null,
   "metadata": {},
   "outputs": [],
   "source": []
  },
  {
   "cell_type": "code",
   "execution_count": null,
   "metadata": {},
   "outputs": [],
   "source": []
  }
 ],
 "metadata": {
  "kernelspec": {
   "display_name": "Julia 1.5.3",
   "language": "julia",
   "name": "julia-1.5"
  },
  "language_info": {
   "file_extension": ".jl",
   "mimetype": "application/julia",
   "name": "julia",
   "version": "1.5.3"
  },
  "toc-autonumbering": false,
  "toc-showmarkdowntxt": false
 },
 "nbformat": 4,
 "nbformat_minor": 4
}
